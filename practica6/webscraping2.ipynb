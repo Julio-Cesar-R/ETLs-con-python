{
 "cells": [
  {
   "cell_type": "code",
   "execution_count": 1,
   "metadata": {},
   "outputs": [],
   "source": [
    "import requests\n",
    "from bs4 import BeautifulSoup\n",
    "import re\n",
    "import pandas as pd"
   ]
  },
  {
   "cell_type": "code",
   "execution_count": 4,
   "metadata": {},
   "outputs": [
    {
     "name": "stdout",
     "output_type": "stream",
     "text": [
      "1\n",
      "2\n",
      "3\n",
      "4\n",
      "5\n",
      "6\n",
      "7\n",
      "8\n",
      "9\n"
     ]
    }
   ],
   "source": [
    "for n in range(1,10):\n",
    "    print(n)"
   ]
  },
  {
   "cell_type": "code",
   "execution_count": 32,
   "metadata": {},
   "outputs": [
    {
     "name": "stdout",
     "output_type": "stream",
     "text": [
      "https://www.transfermarkt.com/jonathan-santana/profil/spieler/8004\n",
      "https://www.transfermarkt.com/jonathan-santana/profil/spieler/8005\n"
     ]
    },
    {
     "ename": "IndexError",
     "evalue": "list index out of range",
     "output_type": "error",
     "traceback": [
      "\u001b[1;31m---------------------------------------------------------------------------\u001b[0m",
      "\u001b[1;31mIndexError\u001b[0m                                Traceback (most recent call last)",
      "\u001b[1;32mc:\\Users\\julio\\OneDrive\\Documentos\\Cesar\\ETL_PYTHON\\practica6\\webscraping2.ipynb Cell 3'\u001b[0m in \u001b[0;36m<cell line: 5>\u001b[1;34m()\u001b[0m\n\u001b[0;32m     <a href='vscode-notebook-cell:/c%3A/Users/julio/OneDrive/Documentos/Cesar/ETL_PYTHON/practica6/webscraping2.ipynb#ch0000002?line=12'>13</a>\u001b[0m soup \u001b[39m=\u001b[39m BeautifulSoup(html\u001b[39m.\u001b[39mcontent, \u001b[39m'\u001b[39m\u001b[39mhtml.parser\u001b[39m\u001b[39m'\u001b[39m)\n\u001b[0;32m     <a href='vscode-notebook-cell:/c%3A/Users/julio/OneDrive/Documentos/Cesar/ETL_PYTHON/practica6/webscraping2.ipynb#ch0000002?line=13'>14</a>\u001b[0m \u001b[39m#obtenemos nombre\u001b[39;00m\n\u001b[1;32m---> <a href='vscode-notebook-cell:/c%3A/Users/julio/OneDrive/Documentos/Cesar/ETL_PYTHON/practica6/webscraping2.ipynb#ch0000002?line=14'>15</a>\u001b[0m name \u001b[39m=\u001b[39m soup\u001b[39m.\u001b[39;49mfind_all(\u001b[39m\"\u001b[39;49m\u001b[39mspan\u001b[39;49m\u001b[39m\"\u001b[39;49m, {\u001b[39m\"\u001b[39;49m\u001b[39mclass\u001b[39;49m\u001b[39m\"\u001b[39;49m: \u001b[39m\"\u001b[39;49m\u001b[39minfo-table__content info-table__content--bold\u001b[39;49m\u001b[39m\"\u001b[39;49m})[\u001b[39m0\u001b[39;49m]\u001b[39m.\u001b[39mtext\u001b[39m.\u001b[39mstrip()\n\u001b[0;32m     <a href='vscode-notebook-cell:/c%3A/Users/julio/OneDrive/Documentos/Cesar/ETL_PYTHON/practica6/webscraping2.ipynb#ch0000002?line=15'>16</a>\u001b[0m nombre\u001b[39m.\u001b[39mappend(name)\n\u001b[0;32m     <a href='vscode-notebook-cell:/c%3A/Users/julio/OneDrive/Documentos/Cesar/ETL_PYTHON/practica6/webscraping2.ipynb#ch0000002?line=17'>18</a>\u001b[0m \u001b[39m#obtenemos equipo\u001b[39;00m\n",
      "\u001b[1;31mIndexError\u001b[0m: list index out of range"
     ]
    }
   ],
   "source": [
    "nombre=[]\n",
    "equipos = []\n",
    "estimacion_mercado = []\n",
    "\n",
    "for num in range(8004,8008):\n",
    "    #descargamos el HTML\n",
    "    url = f\"https://www.transfermarkt.com/jonathan-santana/profil/spieler/{num}\"\n",
    "    print(url)\n",
    "    headers = {'User-Agent': 'Mozilla/5.0 (X11; Linux x86_64) AppleWebKit/537.36 (KHTML, like Gecko) Chrome/47.0.2526.106 Safari/537.36'}\n",
    "    html = requests.get(url, headers= headers)\n",
    "    \n",
    "    #parseamos con bs\n",
    "    soup = BeautifulSoup(html.content, 'html.parser')\n",
    "    #obtenemos nombre\n",
    "    name = soup.find_all(\"span\", {\"class\": \"info-table__content info-table__content--bold\"})[0].text.strip()\n",
    "    nombre.append(name)\n",
    "\n",
    "    #obtenemos equipo\n",
    "    equipo = soup.find_all(\"span\", {\"class\": \"data-header__club\"})[0].text.strip()\n",
    "    equipos.append(equipo)\n",
    "    \n",
    "    #obtenemos la valoracion de mercado\n",
    "    valor = soup.find_all(\"div\", {\"class\": \"tm-player-market-value-development__max-value\"})[0].text.strip()\n",
    "    regex_valor = re.compile('\\d+\\d+')\n",
    "    valor = float(regex_valor.search(valor)[0])\n",
    "    estimacion_mercado.append(valor)"
   ]
  },
  {
   "cell_type": "code",
   "execution_count": 30,
   "metadata": {},
   "outputs": [
    {
     "data": {
      "text/plain": [
       "['Rafael Clavero Prados']"
      ]
     },
     "execution_count": 30,
     "metadata": {},
     "output_type": "execute_result"
    }
   ],
   "source": [
    "nombre"
   ]
  },
  {
   "cell_type": "code",
   "execution_count": 24,
   "metadata": {},
   "outputs": [],
   "source": []
  },
  {
   "cell_type": "code",
   "execution_count": null,
   "metadata": {},
   "outputs": [],
   "source": []
  }
 ],
 "metadata": {
  "interpreter": {
   "hash": "0c38bb516aa399e917601e78c6b9df8e4ddb819d5233535bf98b1f78cd37de6f"
  },
  "kernelspec": {
   "display_name": "Python 3.10.3 ('etls': venv)",
   "language": "python",
   "name": "python3"
  },
  "language_info": {
   "codemirror_mode": {
    "name": "ipython",
    "version": 3
   },
   "file_extension": ".py",
   "mimetype": "text/x-python",
   "name": "python",
   "nbconvert_exporter": "python",
   "pygments_lexer": "ipython3",
   "version": "3.10.3"
  },
  "orig_nbformat": 4
 },
 "nbformat": 4,
 "nbformat_minor": 2
}
