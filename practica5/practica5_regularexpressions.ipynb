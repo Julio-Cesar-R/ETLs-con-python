{
 "cells": [
  {
   "cell_type": "markdown",
   "id": "1a3d79d5",
   "metadata": {},
   "source": [
    "# Expresiones regulares\n",
    "\n",
    "El mail de kaiser es kai@gmail.com y el de mi hermano leon es leon@gmail.com\n",
    "\n",
    "Generar las expresiones regulares en la pagina \"https://regex101.com/\""
   ]
  },
  {
   "cell_type": "code",
   "execution_count": 1,
   "id": "8327146d",
   "metadata": {},
   "outputs": [],
   "source": [
    "import re"
   ]
  },
  {
   "cell_type": "code",
   "execution_count": 2,
   "id": "801137fb",
   "metadata": {},
   "outputs": [],
   "source": [
    "frase=\"El mail de kaiser es kai@gmail.com y el de mi hermano leon es leon@gmail.com y mi amigo Guillermo.zarzas@gmail.com\""
   ]
  },
  {
   "cell_type": "code",
   "execution_count": 3,
   "id": "a4e6abfe",
   "metadata": {},
   "outputs": [
    {
     "name": "stdout",
     "output_type": "stream",
     "text": [
      "El mail de kaiser es kai@gmail.com y el de mi hermano leon es leon@gmail.com y mi amigo Guillermo.zarzas@gmail.com\n"
     ]
    }
   ],
   "source": [
    "print (frase)"
   ]
  },
  {
   "cell_type": "code",
   "execution_count": 4,
   "id": "92c3c0dc",
   "metadata": {},
   "outputs": [],
   "source": [
    "patron_email=re.compile(\"[\\w\\.]+@[\\w\\.]+\\.[\\w]+\")"
   ]
  },
  {
   "cell_type": "code",
   "execution_count": 5,
   "id": "2d283e40",
   "metadata": {},
   "outputs": [],
   "source": [
    "email_lista=patron_email.findall(frase)"
   ]
  },
  {
   "cell_type": "code",
   "execution_count": 10,
   "id": "654a423e",
   "metadata": {},
   "outputs": [
    {
     "data": {
      "text/plain": [
       "['kai@gmail.com', 'leon@gmail.com', 'Guillermo.zarzas@gmail.com']"
      ]
     },
     "execution_count": 10,
     "metadata": {},
     "output_type": "execute_result"
    }
   ],
   "source": [
    "email_lista"
   ]
  },
  {
   "cell_type": "code",
   "execution_count": null,
   "id": "44f8965f",
   "metadata": {},
   "outputs": [],
   "source": []
  }
 ],
 "metadata": {
  "interpreter": {
   "hash": "0c38bb516aa399e917601e78c6b9df8e4ddb819d5233535bf98b1f78cd37de6f"
  },
  "kernelspec": {
   "display_name": "Python 3.10.3 ('etls': venv)",
   "language": "python",
   "name": "python3"
  },
  "language_info": {
   "codemirror_mode": {
    "name": "ipython",
    "version": 3
   },
   "file_extension": ".py",
   "mimetype": "text/x-python",
   "name": "python",
   "nbconvert_exporter": "python",
   "pygments_lexer": "ipython3",
   "version": "3.10.3"
  }
 },
 "nbformat": 4,
 "nbformat_minor": 5
}
